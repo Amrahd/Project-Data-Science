{
 "cells": [
  {
   "cell_type": "markdown",
   "id": "982a0cfd",
   "metadata": {},
   "source": [
    "# AudioBooks Business Case\n",
    "\n",
    "Pada bagian ke2 ini akan dibentuk model Deep Learning dengan bantuan dari library tensorflow"
   ]
  },
  {
   "cell_type": "code",
   "execution_count": 1,
   "id": "07c4e906",
   "metadata": {},
   "outputs": [],
   "source": [
    "import numpy as np\n",
    "import tensorflow as tf"
   ]
  },
  {
   "cell_type": "code",
   "execution_count": 2,
   "id": "cbbfdfde",
   "metadata": {},
   "outputs": [
    {
     "name": "stderr",
     "output_type": "stream",
     "text": [
      "C:\\Users\\dharm\\AppData\\Local\\Temp\\ipykernel_15988\\1155570295.py:2: DeprecationWarning: `np.float` is a deprecated alias for the builtin `float`. To silence this warning, use `float` by itself. Doing this will not modify any behavior and is safe. If you specifically wanted the numpy scalar type, use `np.float64` here.\n",
      "Deprecated in NumPy 1.20; for more details and guidance: https://numpy.org/devdocs/release/1.20.0-notes.html#deprecations\n",
      "  train_inputs = npz['inputs'].astype(np.float)\n",
      "C:\\Users\\dharm\\AppData\\Local\\Temp\\ipykernel_15988\\1155570295.py:3: DeprecationWarning: `np.int` is a deprecated alias for the builtin `int`. To silence this warning, use `int` by itself. Doing this will not modify any behavior and is safe. When replacing `np.int`, you may wish to use e.g. `np.int64` or `np.int32` to specify the precision. If you wish to review your current use, check the release note link for additional information.\n",
      "Deprecated in NumPy 1.20; for more details and guidance: https://numpy.org/devdocs/release/1.20.0-notes.html#deprecations\n",
      "  train_targets = npz['targets'].astype(np.int)\n",
      "C:\\Users\\dharm\\AppData\\Local\\Temp\\ipykernel_15988\\1155570295.py:6: DeprecationWarning: `np.float` is a deprecated alias for the builtin `float`. To silence this warning, use `float` by itself. Doing this will not modify any behavior and is safe. If you specifically wanted the numpy scalar type, use `np.float64` here.\n",
      "Deprecated in NumPy 1.20; for more details and guidance: https://numpy.org/devdocs/release/1.20.0-notes.html#deprecations\n",
      "  validation_inputs = npz['inputs'].astype(np.float)\n",
      "C:\\Users\\dharm\\AppData\\Local\\Temp\\ipykernel_15988\\1155570295.py:7: DeprecationWarning: `np.int` is a deprecated alias for the builtin `int`. To silence this warning, use `int` by itself. Doing this will not modify any behavior and is safe. When replacing `np.int`, you may wish to use e.g. `np.int64` or `np.int32` to specify the precision. If you wish to review your current use, check the release note link for additional information.\n",
      "Deprecated in NumPy 1.20; for more details and guidance: https://numpy.org/devdocs/release/1.20.0-notes.html#deprecations\n",
      "  validation_targets = npz['targets'].astype(np.int)\n",
      "C:\\Users\\dharm\\AppData\\Local\\Temp\\ipykernel_15988\\1155570295.py:10: DeprecationWarning: `np.float` is a deprecated alias for the builtin `float`. To silence this warning, use `float` by itself. Doing this will not modify any behavior and is safe. If you specifically wanted the numpy scalar type, use `np.float64` here.\n",
      "Deprecated in NumPy 1.20; for more details and guidance: https://numpy.org/devdocs/release/1.20.0-notes.html#deprecations\n",
      "  test_inputs = npz['inputs'].astype(np.float)\n",
      "C:\\Users\\dharm\\AppData\\Local\\Temp\\ipykernel_15988\\1155570295.py:11: DeprecationWarning: `np.int` is a deprecated alias for the builtin `int`. To silence this warning, use `int` by itself. Doing this will not modify any behavior and is safe. When replacing `np.int`, you may wish to use e.g. `np.int64` or `np.int32` to specify the precision. If you wish to review your current use, check the release note link for additional information.\n",
      "Deprecated in NumPy 1.20; for more details and guidance: https://numpy.org/devdocs/release/1.20.0-notes.html#deprecations\n",
      "  test_targets = npz['targets'].astype(np.int)\n"
     ]
    }
   ],
   "source": [
    "npz = np.load(\"C:/Users/dharm/Project Data Science/Audiobooks_data_train.npz\")\n",
    "train_inputs = npz['inputs'].astype(np.float)\n",
    "train_targets = npz['targets'].astype(np.int)\n",
    "\n",
    "npz = np.load(\"C:/Users/dharm/Project Data Science/Audiobooks_data_validation.npz\")\n",
    "validation_inputs = npz['inputs'].astype(np.float)\n",
    "validation_targets = npz['targets'].astype(np.int)\n",
    "\n",
    "npz = np.load(\"C:/Users/dharm/Project Data Science/Audiobooks_data_test.npz\")\n",
    "test_inputs = npz['inputs'].astype(np.float)\n",
    "test_targets = npz['targets'].astype(np.int)"
   ]
  },
  {
   "cell_type": "markdown",
   "id": "9b19545e",
   "metadata": {},
   "source": [
    "### Membuat model dengan menerapkan early stoping\n",
    "\n",
    "early stoping diterapkan agar model tidak overfit "
   ]
  },
  {
   "cell_type": "code",
   "execution_count": 3,
   "id": "6b9e6b1e",
   "metadata": {},
   "outputs": [
    {
     "name": "stdout",
     "output_type": "stream",
     "text": [
      "Epoch 1/100\n",
      "36/36 - 1s - loss: 1.7566 - accuracy: 0.4621 - val_loss: 1.1278 - val_accuracy: 0.6577 - 1s/epoch - 35ms/step\n",
      "Epoch 2/100\n",
      "36/36 - 0s - loss: 0.7774 - accuracy: 0.7105 - val_loss: 0.5351 - val_accuracy: 0.7785 - 188ms/epoch - 5ms/step\n",
      "Epoch 3/100\n",
      "36/36 - 0s - loss: 0.4979 - accuracy: 0.7622 - val_loss: 0.4457 - val_accuracy: 0.7964 - 181ms/epoch - 5ms/step\n",
      "Epoch 4/100\n",
      "36/36 - 0s - loss: 0.4445 - accuracy: 0.7759 - val_loss: 0.4186 - val_accuracy: 0.7897 - 162ms/epoch - 4ms/step\n",
      "Epoch 5/100\n",
      "36/36 - 0s - loss: 0.4222 - accuracy: 0.7768 - val_loss: 0.4053 - val_accuracy: 0.7897 - 161ms/epoch - 4ms/step\n",
      "Epoch 6/100\n",
      "36/36 - 0s - loss: 0.4078 - accuracy: 0.7938 - val_loss: 0.3909 - val_accuracy: 0.7964 - 114ms/epoch - 3ms/step\n",
      "Epoch 7/100\n",
      "36/36 - 0s - loss: 0.3988 - accuracy: 0.7941 - val_loss: 0.3826 - val_accuracy: 0.8031 - 94ms/epoch - 3ms/step\n",
      "Epoch 8/100\n",
      "36/36 - 0s - loss: 0.3899 - accuracy: 0.7963 - val_loss: 0.3851 - val_accuracy: 0.7964 - 177ms/epoch - 5ms/step\n",
      "Epoch 9/100\n",
      "36/36 - 0s - loss: 0.3837 - accuracy: 0.7994 - val_loss: 0.3743 - val_accuracy: 0.7987 - 201ms/epoch - 6ms/step\n",
      "Epoch 10/100\n",
      "36/36 - 0s - loss: 0.3810 - accuracy: 0.8022 - val_loss: 0.3718 - val_accuracy: 0.7964 - 196ms/epoch - 5ms/step\n",
      "Epoch 11/100\n",
      "36/36 - 0s - loss: 0.3769 - accuracy: 0.7997 - val_loss: 0.3702 - val_accuracy: 0.8031 - 186ms/epoch - 5ms/step\n",
      "Epoch 12/100\n",
      "36/36 - 0s - loss: 0.3759 - accuracy: 0.8033 - val_loss: 0.3662 - val_accuracy: 0.8098 - 207ms/epoch - 6ms/step\n",
      "Epoch 13/100\n",
      "36/36 - 0s - loss: 0.3713 - accuracy: 0.8033 - val_loss: 0.3665 - val_accuracy: 0.8031 - 155ms/epoch - 4ms/step\n",
      "Epoch 14/100\n",
      "36/36 - 0s - loss: 0.3685 - accuracy: 0.8055 - val_loss: 0.3672 - val_accuracy: 0.7852 - 182ms/epoch - 5ms/step\n"
     ]
    },
    {
     "data": {
      "text/plain": [
       "<keras.callbacks.History at 0x1510ea1ec10>"
      ]
     },
     "execution_count": 3,
     "metadata": {},
     "output_type": "execute_result"
    }
   ],
   "source": [
    "input_size = 10\n",
    "output_size = 10\n",
    "hidden_layer_size = 50\n",
    "\n",
    "model = tf.keras.Sequential([\n",
    "                            tf.keras.layers.Dense(hidden_layer_size, activation='relu'),\n",
    "                            tf.keras.layers.Dense(hidden_layer_size, activation='relu'),\n",
    "                            tf.keras.layers.Dense(output_size, activation='softmax')\n",
    "                            ])\n",
    "\n",
    "model.compile(optimizer='adam', loss='sparse_categorical_crossentropy', metrics=['accuracy'])\n",
    "\n",
    "batch_size = 100\n",
    "max_epochs = 100\n",
    "early_stoping = tf.keras.callbacks.EarlyStopping(patience=2)\n",
    "\n",
    "model.fit(train_inputs,\n",
    "          train_targets,\n",
    "          batch_size = batch_size,\n",
    "          epochs = max_epochs,\n",
    "          callbacks = [early_stoping],\n",
    "          validation_data = (validation_inputs, validation_targets),\n",
    "          verbose=2\n",
    "         )"
   ]
  },
  {
   "cell_type": "code",
   "execution_count": 4,
   "id": "096d5b35",
   "metadata": {},
   "outputs": [
    {
     "name": "stdout",
     "output_type": "stream",
     "text": [
      "14/14 [==============================] - 0s 2ms/step - loss: 0.3858 - accuracy: 0.7857\n"
     ]
    }
   ],
   "source": [
    "test_loss, test_accuracy = model.evaluate(test_inputs, test_targets)"
   ]
  }
 ],
 "metadata": {
  "kernelspec": {
   "display_name": "Python 3 (ipykernel)",
   "language": "python",
   "name": "python3"
  },
  "language_info": {
   "codemirror_mode": {
    "name": "ipython",
    "version": 3
   },
   "file_extension": ".py",
   "mimetype": "text/x-python",
   "name": "python",
   "nbconvert_exporter": "python",
   "pygments_lexer": "ipython3",
   "version": "3.9.13"
  }
 },
 "nbformat": 4,
 "nbformat_minor": 5
}
