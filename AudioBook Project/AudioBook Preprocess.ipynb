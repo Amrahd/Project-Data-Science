{
 "cells": [
  {
   "cell_type": "markdown",
   "id": "ecf8e47c",
   "metadata": {},
   "source": [
    "# AudioBooks Business Case\n",
    "\n",
    "Salah satu latihan yang didapat dari kursus online. Pada bagian ini data akan praproses dengan cara diseimbangkan, scaled, diacak lalu dibagi dalam 3 data yaitu latihan, validasi dan test dalam bentuk .npz"
   ]
  },
  {
   "cell_type": "code",
   "execution_count": 1,
   "id": "23c30d6d",
   "metadata": {},
   "outputs": [],
   "source": [
    "#import libraries\n",
    "import numpy as np\n",
    "import pandas as pd\n",
    "from sklearn import preprocessing\n",
    "from collections import Counter\n",
    "import tensorflow as tf\n",
    "from imblearn.under_sampling import RandomUnderSampler\n",
    "\n",
    "df = pd.read_csv(\"D:/Data For Project/AudioBook/Audiobooks_data.csv\")\n",
    "\n",
    "raw_csv_data = df.values\n",
    "unscaled_inputs_all = raw_csv_data[:,1:-1]\n",
    "targets_all = raw_csv_data[:,-1]"
   ]
  },
  {
   "cell_type": "code",
   "execution_count": 2,
   "id": "a9a85421",
   "metadata": {},
   "outputs": [
    {
     "name": "stdout",
     "output_type": "stream",
     "text": [
      "Befor : Counter({0.0: 11846, 1.0: 2237})\n",
      "After : Counter({0.0: 2237, 1.0: 2237})\n"
     ]
    }
   ],
   "source": [
    "print('Befor : %s'%Counter(targets_all))\n",
    "\n",
    "rus = RandomUnderSampler(random_state=1)\n",
    "balanced_unscaled_inputs_all, balanced_targets_all = rus.fit_resample(unscaled_inputs_all, targets_all)\n",
    "\n",
    "print('After : %s'%Counter(balanced_targets_all))"
   ]
  },
  {
   "cell_type": "code",
   "execution_count": 3,
   "id": "1f6949ef",
   "metadata": {},
   "outputs": [],
   "source": [
    "scaled_inputs = preprocessing.scale(balanced_unscaled_inputs_all)"
   ]
  },
  {
   "cell_type": "code",
   "execution_count": 4,
   "id": "bbceabd2",
   "metadata": {},
   "outputs": [],
   "source": [
    "shuffled_indices = np.arange(scaled_inputs.shape[0])\n",
    "np.random.shuffle(shuffled_indices)\n",
    "\n",
    "shuffled_inputs = scaled_inputs[shuffled_indices]\n",
    "shuffled_targets = balanced_targets_all[shuffled_indices]"
   ]
  },
  {
   "cell_type": "code",
   "execution_count": 5,
   "id": "8b8ece8a",
   "metadata": {},
   "outputs": [],
   "source": [
    "samples_count = shuffled_inputs.shape[0]\n",
    "\n",
    "train_samples_count = int(0.8*samples_count)\n",
    "validation_samples_count = int(0.1*samples_count)\n",
    "test_samples_count = samples_count - train_samples_count - validation_samples_count\n",
    "\n",
    "train_inputs = shuffled_inputs[:train_samples_count]\n",
    "train_targets = shuffled_targets[:train_samples_count]\n",
    "\n",
    "validation_inputs = shuffled_inputs[train_samples_count: train_samples_count+validation_samples_count]\n",
    "validation_targets = shuffled_targets[train_samples_count: train_samples_count+validation_samples_count]\n",
    "\n",
    "test_inputs = shuffled_inputs[train_samples_count+validation_samples_count:]\n",
    "test_targets = shuffled_targets[train_samples_count+validation_samples_count:]"
   ]
  },
  {
   "cell_type": "code",
   "execution_count": 6,
   "id": "939139a0",
   "metadata": {},
   "outputs": [],
   "source": [
    "np.savez('Audiobooks_data_train', inputs = train_inputs, targets=train_targets)\n",
    "np.savez('Audiobooks_data_validation', inputs = validation_inputs, targets=validation_targets)\n",
    "np.savez('Audiobooks_data_test', inputs = test_inputs, targets=test_targets)"
   ]
  }
 ],
 "metadata": {
  "kernelspec": {
   "display_name": "Python 3 (ipykernel)",
   "language": "python",
   "name": "python3"
  },
  "language_info": {
   "codemirror_mode": {
    "name": "ipython",
    "version": 3
   },
   "file_extension": ".py",
   "mimetype": "text/x-python",
   "name": "python",
   "nbconvert_exporter": "python",
   "pygments_lexer": "ipython3",
   "version": "3.9.13"
  }
 },
 "nbformat": 4,
 "nbformat_minor": 5
}
