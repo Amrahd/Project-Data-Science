{
 "cells": [
  {
   "cell_type": "markdown",
   "id": "273db436",
   "metadata": {},
   "source": [
    "# MNIST Project\n",
    "\n",
    "Project ini dilakukan dengan panduan dari kursus online "
   ]
  },
  {
   "cell_type": "markdown",
   "id": "9a92e0fe",
   "metadata": {},
   "source": [
    "# Import packages"
   ]
  },
  {
   "cell_type": "code",
   "execution_count": 1,
   "id": "72da610d",
   "metadata": {},
   "outputs": [],
   "source": [
    "import numpy as np \n",
    "import pandas as pd \n",
    "import tensorflow as tf\n",
    "import tensorflow_datasets as tfds"
   ]
  },
  {
   "cell_type": "markdown",
   "id": "7d05b5a7",
   "metadata": {},
   "source": [
    "# Data"
   ]
  },
  {
   "cell_type": "code",
   "execution_count": 5,
   "id": "ef12e570",
   "metadata": {},
   "outputs": [],
   "source": [
    "mnist_dataset, mnist_info = tfds.load(name='mnist', with_info=True , as_supervised=True)\n",
    "\n",
    "mnist_train, mnist_test = mnist_dataset['train'], mnist_dataset['test']\n",
    "\n",
    "num_validation_samples = 0.1* mnist_info.splits['train'].num_examples\n",
    "num_validation_samples = tf.cast(num_validation_samples, tf.int64)\n",
    "\n",
    "num_test_samples = mnist_info.splits['test'].num_examples\n",
    "num_test_samples = tf.cast(num_test_samples, tf.int64)\n",
    "\n",
    "def scale(image, label):\n",
    "    image = tf.cast(image, tf.float32)\n",
    "    image /= 255.\n",
    "    return image, label\n",
    "\n",
    "scaled_train_and_validation_data = mnist_train.map(scale)\n",
    "test_data = mnist_test.map(scale)\n",
    "\n",
    "BUFFER_SIZE = 10000\n",
    "\n",
    "shuffled_train_and_validation_data = scaled_train_and_validation_data.shuffle(BUFFER_SIZE)\n",
    "\n",
    "validation_data = shuffled_train_and_validation_data.take(num_validation_samples)\n",
    "\n",
    "train_data = shuffled_train_and_validation_data.skip(num_validation_samples)\n",
    "\n",
    "BATCH_SIZE = 100\n",
    "train_data = train_data.batch(BATCH_SIZE)\n",
    "validation_data = validation_data.batch(num_validation_samples)\n",
    "test_data = test_data.batch(num_test_samples)\n",
    "validation_inputs, validation_targets = next(iter(validation_data))"
   ]
  },
  {
   "cell_type": "code",
   "execution_count": 11,
   "id": "b6a36ac2",
   "metadata": {},
   "outputs": [],
   "source": [
    "input_size = 784\n",
    "output_size = 10\n",
    "hidden_layer_size = 50\n",
    "\n",
    "model = tf.keras.Sequential([\n",
    "                            tf.keras.layers.Flatten(input_shape=(28,28,1)),\n",
    "                            tf.keras.layers.Dense(hidden_layer_size, activation='relu'),\n",
    "                            tf.keras.layers.Dense(hidden_layer_size, activation='relu'),\n",
    "                            tf.keras.layers.Dense(output_size, activation='softmax')\n",
    "                            ])\n",
    "\n",
    "early_stoping = tf.keras.callbacks.EarlyStopping(patience=2)"
   ]
  },
  {
   "cell_type": "code",
   "execution_count": 12,
   "id": "34aed9e3",
   "metadata": {},
   "outputs": [],
   "source": [
    "model.compile(optimizer='adam', loss='sparse_categorical_crossentropy', metrics=['accuracy'])"
   ]
  },
  {
   "cell_type": "code",
   "execution_count": 13,
   "id": "a37ae0c1",
   "metadata": {},
   "outputs": [
    {
     "name": "stdout",
     "output_type": "stream",
     "text": [
      "Epoch 1/100\n",
      "540/540 - 6s - loss: 0.4028 - accuracy: 0.8859 - val_loss: 0.2299 - val_accuracy: 0.9363 - 6s/epoch - 11ms/step\n",
      "Epoch 2/100\n",
      "540/540 - 4s - loss: 0.1875 - accuracy: 0.9464 - val_loss: 0.1708 - val_accuracy: 0.9498 - 4s/epoch - 7ms/step\n",
      "Epoch 3/100\n",
      "540/540 - 4s - loss: 0.1430 - accuracy: 0.9577 - val_loss: 0.1386 - val_accuracy: 0.9580 - 4s/epoch - 7ms/step\n",
      "Epoch 4/100\n",
      "540/540 - 4s - loss: 0.1182 - accuracy: 0.9647 - val_loss: 0.1260 - val_accuracy: 0.9605 - 4s/epoch - 7ms/step\n",
      "Epoch 5/100\n",
      "540/540 - 4s - loss: 0.1003 - accuracy: 0.9699 - val_loss: 0.1064 - val_accuracy: 0.9680 - 4s/epoch - 7ms/step\n",
      "Epoch 6/100\n",
      "540/540 - 4s - loss: 0.0855 - accuracy: 0.9743 - val_loss: 0.0974 - val_accuracy: 0.9693 - 4s/epoch - 7ms/step\n",
      "Epoch 7/100\n",
      "540/540 - 4s - loss: 0.0756 - accuracy: 0.9766 - val_loss: 0.1021 - val_accuracy: 0.9695 - 4s/epoch - 7ms/step\n",
      "Epoch 8/100\n",
      "540/540 - 4s - loss: 0.0671 - accuracy: 0.9789 - val_loss: 0.0893 - val_accuracy: 0.9717 - 4s/epoch - 7ms/step\n",
      "Epoch 9/100\n",
      "540/540 - 4s - loss: 0.0591 - accuracy: 0.9822 - val_loss: 0.0734 - val_accuracy: 0.9773 - 4s/epoch - 7ms/step\n",
      "Epoch 10/100\n",
      "540/540 - 4s - loss: 0.0529 - accuracy: 0.9837 - val_loss: 0.0677 - val_accuracy: 0.9793 - 4s/epoch - 8ms/step\n",
      "Epoch 11/100\n",
      "540/540 - 4s - loss: 0.0492 - accuracy: 0.9850 - val_loss: 0.0660 - val_accuracy: 0.9798 - 4s/epoch - 7ms/step\n",
      "Epoch 12/100\n",
      "540/540 - 4s - loss: 0.0430 - accuracy: 0.9864 - val_loss: 0.0597 - val_accuracy: 0.9818 - 4s/epoch - 7ms/step\n",
      "Epoch 13/100\n",
      "540/540 - 4s - loss: 0.0392 - accuracy: 0.9884 - val_loss: 0.0566 - val_accuracy: 0.9832 - 4s/epoch - 7ms/step\n",
      "Epoch 14/100\n",
      "540/540 - 4s - loss: 0.0365 - accuracy: 0.9890 - val_loss: 0.0609 - val_accuracy: 0.9813 - 4s/epoch - 7ms/step\n",
      "Epoch 15/100\n",
      "540/540 - 4s - loss: 0.0332 - accuracy: 0.9899 - val_loss: 0.0460 - val_accuracy: 0.9867 - 4s/epoch - 7ms/step\n",
      "Epoch 16/100\n",
      "540/540 - 4s - loss: 0.0302 - accuracy: 0.9913 - val_loss: 0.0436 - val_accuracy: 0.9858 - 4s/epoch - 7ms/step\n",
      "Epoch 17/100\n",
      "540/540 - 4s - loss: 0.0277 - accuracy: 0.9916 - val_loss: 0.0511 - val_accuracy: 0.9827 - 4s/epoch - 7ms/step\n",
      "Epoch 18/100\n",
      "540/540 - 4s - loss: 0.0265 - accuracy: 0.9918 - val_loss: 0.0380 - val_accuracy: 0.9872 - 4s/epoch - 8ms/step\n",
      "Epoch 19/100\n",
      "540/540 - 4s - loss: 0.0217 - accuracy: 0.9934 - val_loss: 0.0356 - val_accuracy: 0.9895 - 4s/epoch - 8ms/step\n",
      "Epoch 20/100\n",
      "540/540 - 4s - loss: 0.0215 - accuracy: 0.9934 - val_loss: 0.0341 - val_accuracy: 0.9885 - 4s/epoch - 7ms/step\n",
      "Epoch 21/100\n",
      "540/540 - 4s - loss: 0.0210 - accuracy: 0.9933 - val_loss: 0.0264 - val_accuracy: 0.9915 - 4s/epoch - 8ms/step\n",
      "Epoch 22/100\n",
      "540/540 - 4s - loss: 0.0174 - accuracy: 0.9948 - val_loss: 0.0278 - val_accuracy: 0.9920 - 4s/epoch - 8ms/step\n",
      "Epoch 23/100\n",
      "540/540 - 4s - loss: 0.0171 - accuracy: 0.9949 - val_loss: 0.0268 - val_accuracy: 0.9908 - 4s/epoch - 8ms/step\n"
     ]
    },
    {
     "data": {
      "text/plain": [
       "<keras.callbacks.History at 0x29beb27ba30>"
      ]
     },
     "execution_count": 13,
     "metadata": {},
     "output_type": "execute_result"
    }
   ],
   "source": [
    "NUM_EPOCHS = 100\n",
    "\n",
    "model.fit(train_data, epochs=NUM_EPOCHS,callbacks=[early_stoping] ,validation_data=(validation_inputs, validation_targets),verbose=2)"
   ]
  },
  {
   "cell_type": "code",
   "execution_count": 14,
   "id": "ef47b8bd",
   "metadata": {},
   "outputs": [
    {
     "name": "stdout",
     "output_type": "stream",
     "text": [
      "1/1 [==============================] - 1s 775ms/step - loss: 0.1128 - accuracy: 0.9726\n"
     ]
    }
   ],
   "source": [
    "test_loss, test_accuracy = model.evaluate(test_data)"
   ]
  }
 ],
 "metadata": {
  "kernelspec": {
   "display_name": "Python 3 (ipykernel)",
   "language": "python",
   "name": "python3"
  },
  "language_info": {
   "codemirror_mode": {
    "name": "ipython",
    "version": 3
   },
   "file_extension": ".py",
   "mimetype": "text/x-python",
   "name": "python",
   "nbconvert_exporter": "python",
   "pygments_lexer": "ipython3",
   "version": "3.9.13"
  }
 },
 "nbformat": 4,
 "nbformat_minor": 5
}
